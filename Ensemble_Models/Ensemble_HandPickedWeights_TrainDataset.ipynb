{
 "cells": [
  {
   "cell_type": "markdown",
   "metadata": {},
   "source": [
    "# Importing Modules"
   ]
  },
  {
   "cell_type": "code",
   "execution_count": 1,
   "metadata": {},
   "outputs": [],
   "source": [
    "import numpy as np"
   ]
  },
  {
   "cell_type": "markdown",
   "metadata": {},
   "source": [
    "# Important Functions & Data"
   ]
  },
  {
   "cell_type": "code",
   "execution_count": 2,
   "metadata": {},
   "outputs": [],
   "source": [
    "label_to_name = { 0 : 'Negative',\n",
    "                  1 : 'Neutral',\n",
    "                  2 : 'Positive'}\n",
    "\n",
    "path_output_data = '../ModelOutputs/fourteen_models_output_data.npz'"
   ]
  },
  {
   "cell_type": "code",
   "execution_count": 3,
   "metadata": {},
   "outputs": [],
   "source": [
    "def softmax(x):\n",
    "    \"\"\"\n",
    "    Compute softmax values for each sets of scores in x.\n",
    "    \n",
    "    Rows are scores for each class. \n",
    "    Columns are predictions (samples).\n",
    "    \"\"\"\n",
    "    scoreMatExp = np.exp(np.asarray(x))\n",
    "    \n",
    "    result = np.zeros((scoreMatExp.shape[0], 3))\n",
    "    \n",
    "    result[:, 0] = scoreMatExp[:, 0] / scoreMatExp.sum(1)\n",
    "    result[:, 1] = scoreMatExp[:, 1] / scoreMatExp.sum(1)\n",
    "    result[:, 2] = scoreMatExp[:, 2] / scoreMatExp.sum(1)\n",
    "    \n",
    "    return result"
   ]
  },
  {
   "cell_type": "markdown",
   "metadata": {},
   "source": [
    "# Dataset"
   ]
  },
  {
   "cell_type": "code",
   "execution_count": 4,
   "metadata": {},
   "outputs": [
    {
     "name": "stdout",
     "output_type": "stream",
     "text": [
      "Dataset Loaded\n"
     ]
    }
   ],
   "source": [
    "data = np.load(path_output_data)\n",
    "model1_train = data['output_train_model1']\n",
    "model2_train = data['output_train_model2']\n",
    "model3_train = data['output_train_model3']\n",
    "model4_train = data['output_train_model4']\n",
    "model5_train = data['output_train_model5']\n",
    "model6_train = data['output_train_model6']\n",
    "model7_train = data['output_train_model7']\n",
    "model8_train = data['output_train_model8']\n",
    "model9_train = data['output_train_model9']\n",
    "model10_train = data['output_train_model10']\n",
    "model11_train = data['output_train_model11']\n",
    "model12_train = data['output_train_model12']\n",
    "model13_train = data['output_train_model13']\n",
    "model14_train = data['output_train_model14']\n",
    "model1_val = data['output_valid_model1']\n",
    "model2_val = data['output_valid_model2']\n",
    "model3_val = data['output_valid_model3']\n",
    "model4_val = data['output_valid_model4']\n",
    "model5_val = data['output_valid_model5']\n",
    "model6_val = data['output_valid_model6']\n",
    "model7_val = data['output_valid_model7']\n",
    "model8_val = data['output_valid_model8']\n",
    "model9_val = data['output_valid_model9']\n",
    "model10_val = data['output_valid_model10']\n",
    "model11_val = data['output_valid_model11']\n",
    "model12_val = data['output_valid_model12']\n",
    "model13_val = data['output_valid_model13']\n",
    "model14_val = data['output_valid_model14']\n",
    "model1_eval = data['output_test_model1']\n",
    "model2_eval = data['output_test_model2']\n",
    "model3_eval = data['output_test_model3']\n",
    "model4_eval = data['output_test_model4']\n",
    "model5_eval = data['output_test_model5']\n",
    "model6_eval = data['output_test_model6']\n",
    "model7_eval = data['output_test_model7']\n",
    "model8_eval = data['output_test_model8']\n",
    "model9_eval = data['output_test_model9']\n",
    "model10_eval = data['output_test_model10']\n",
    "model11_eval = data['output_test_model11']\n",
    "model12_eval = data['output_test_model12']\n",
    "model13_eval = data['output_test_model13']\n",
    "model14_eval = data['output_test_model14']\n",
    "train_label = data['label_train']\n",
    "valid_label = data['label_valid']\n",
    "eval_label = data['label_test']\n",
    "print('Dataset Loaded')"
   ]
  },
  {
   "cell_type": "markdown",
   "metadata": {},
   "source": [
    "# Calculate Data Accuracy"
   ]
  },
  {
   "cell_type": "code",
   "execution_count": 5,
   "metadata": {},
   "outputs": [],
   "source": [
    "m1 = -1\n",
    "m2 = 5\n",
    "m3 = 10\n",
    "m4 = 10\n",
    "m5 = 1\n",
    "m6 = 5\n",
    "m7 = 2.5\n",
    "m8 = 5\n",
    "\n",
    "output_train = m1* model1_train + m2 * model2_train + m3 * model3_train + m4 * model4_train +\\\n",
    "m5*model5_train + m6*model6_train + m7*model7_train + m8*model8_train\n",
    "\n",
    "output_val = m1* model1_val + m2 * model2_val + m3 * model3_val + m4 * model4_val + m5*model5_val +\\\n",
    "m6*model6_val + m7*model7_val + m8*model8_val\n",
    "\n",
    "output_eval = m1* model1_eval + m2 * model2_eval + m3 * model3_eval + m4 * model4_eval +\\\n",
    "m5*model5_eval + m6*model6_eval + m7*model7_eval + m8*model8_eval"
   ]
  },
  {
   "cell_type": "code",
   "execution_count": 6,
   "metadata": {},
   "outputs": [],
   "source": [
    "pred_train = np.argmax(output_train, axis = 1)\n",
    "pred_val = np.argmax(output_val, axis = 1)\n",
    "pred_eval = np.argmax(output_eval, axis = 1)"
   ]
  },
  {
   "cell_type": "code",
   "execution_count": 7,
   "metadata": {},
   "outputs": [],
   "source": [
    "correct_train = np.sum(pred_train == train_label)\n",
    "correct_val = np.sum(pred_val == valid_label)\n",
    "correct_eval = np.sum(pred_eval == eval_label)"
   ]
  },
  {
   "cell_type": "code",
   "execution_count": 8,
   "metadata": {},
   "outputs": [],
   "source": [
    "train_accuracy = correct_train / output_train.shape[0]\n",
    "val_accuracy = correct_val / output_val.shape[0]\n",
    "eval_accuracy = correct_eval / output_eval.shape[0]"
   ]
  },
  {
   "cell_type": "code",
   "execution_count": 9,
   "metadata": {},
   "outputs": [
    {
     "name": "stdout",
     "output_type": "stream",
     "text": [
      "0.941578303426\n"
     ]
    }
   ],
   "source": [
    "print(train_accuracy)"
   ]
  },
  {
   "cell_type": "code",
   "execution_count": 10,
   "metadata": {},
   "outputs": [
    {
     "name": "stdout",
     "output_type": "stream",
     "text": [
      "0.774019754565\n"
     ]
    }
   ],
   "source": [
    "print(val_accuracy)"
   ]
  },
  {
   "cell_type": "code",
   "execution_count": 11,
   "metadata": {},
   "outputs": [
    {
     "name": "stdout",
     "output_type": "stream",
     "text": [
      "0.787\n"
     ]
    }
   ],
   "source": [
    "print(eval_accuracy)"
   ]
  }
 ],
 "metadata": {
  "kernelspec": {
   "display_name": "Python 3",
   "language": "python",
   "name": "python3"
  },
  "language_info": {
   "codemirror_mode": {
    "name": "ipython",
    "version": 3
   },
   "file_extension": ".py",
   "mimetype": "text/x-python",
   "name": "python",
   "nbconvert_exporter": "python",
   "pygments_lexer": "ipython3",
   "version": "3.6.4"
  }
 },
 "nbformat": 4,
 "nbformat_minor": 2
}
