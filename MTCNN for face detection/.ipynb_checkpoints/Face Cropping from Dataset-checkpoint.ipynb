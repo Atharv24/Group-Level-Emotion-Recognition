{
 "cells": [
  {
   "cell_type": "code",
   "execution_count": 1,
   "metadata": {
    "collapsed": true
   },
   "outputs": [],
   "source": [
    "%load_ext autoreload\n",
    "%autoreload 2"
   ]
  },
  {
   "cell_type": "code",
   "execution_count": 2,
   "metadata": {
    "collapsed": true
   },
   "outputs": [],
   "source": [
    "from src import detect_faces, show_bboxes\n",
    "from PIL import Image\n",
    "\n",
    "import torch\n",
    "from torchvision import transforms, datasets\n",
    "import numpy as np\n",
    "import os"
   ]
  },
  {
   "cell_type": "code",
   "execution_count": 3,
   "metadata": {
    "collapsed": true
   },
   "outputs": [],
   "source": [
    "# data_transforms = {\n",
    "#     'train' : transforms.Compose([transforms.ToPILImage()]),\n",
    "    \n",
    "#     'val' : transforms.Compose([transforms.ToPILImage()])\n",
    "# }\n",
    "\n",
    "data_dir = '../Dataset/emotiw/'\n",
    "\n",
    "# image_datasets = {x : datasets.ImageFolder(os.path.join(data_dir, x), data_transforms[x])\n",
    "#                     for x in ['train', 'val']}\n",
    "\n",
    "image_datasets = {x : datasets.ImageFolder(os.path.join(data_dir, x))\n",
    "                    for x in ['train', 'val']}\n",
    "\n",
    "# dataloaders = { x : torch.utils.data.DataLoader(image_datasets[x], batch_size = 1, shuffle=True, num_workers= 4)\n",
    "#                    for x in ['train', 'val']}\n",
    "\n",
    "# dataset_sizes = {x : len(image_datasets[x]) for x in ['train', 'val']}\n",
    "\n",
    "class_names = image_datasets['train'].classes\n",
    "\n",
    "device = torch.device('cuda' if torch.cuda.is_available() else 'cpu')"
   ]
  },
  {
   "cell_type": "code",
   "execution_count": 4,
   "metadata": {},
   "outputs": [
    {
     "data": {
      "text/plain": [
       "['Negative', 'Neutral', 'Positive']"
      ]
     },
     "execution_count": 4,
     "metadata": {},
     "output_type": "execute_result"
    }
   ],
   "source": [
    "class_names"
   ]
  },
  {
   "cell_type": "code",
   "execution_count": 5,
   "metadata": {
    "collapsed": true
   },
   "outputs": [],
   "source": [
    "train_data = image_datasets['train']"
   ]
  },
  {
   "cell_type": "code",
   "execution_count": 6,
   "metadata": {
    "collapsed": true
   },
   "outputs": [],
   "source": [
    "# type(train_data[0:5])\n",
    "\n",
    "# # neg_images = []\n",
    "# # neutral_images = []\n",
    "# # pos_images = []\n",
    "# # for i in range(len(image_datasets['train'])):\n",
    "# #     label = image_datasets['train'][i][1]\n",
    "# #     if label == 0:\n",
    "# #         neg_images.append(image_datasets['train'][i][0])\n",
    "# #         print('neg')\n",
    "# #     elif label == 1:\n",
    "# #         neutral_images.append(image_datasets['train'][i][0])\n",
    "# #         print('neut')\n",
    "# #     else:\n",
    "# #         pos_images.append(image_datasets['train'][i][0])\n",
    "# #         print('pos')"
   ]
  },
  {
   "cell_type": "code",
   "execution_count": 7,
   "metadata": {
    "collapsed": true
   },
   "outputs": [],
   "source": [
    "# neg_images = 2758\n",
    "# neut_images = 3080\n",
    "# pos_images = 3997\n",
    "\n",
    "# train_neg = image_datasets['train'][0:neg_images][0]\n",
    "# train_neut = image_datasets['train'][neg_images: neg_images + neut_images][0]\n",
    "# train_pos = image_datasets['train'][neg_images + neut_images : -1][0]\n",
    "\n",
    "# val_neg = image_datasets['val'][0:neg_images][0]\n",
    "# val_neut = image_datasets['val'][neg_images: neg_images + neut_images][0]\n",
    "# val_pos = image_datasets['val'][neg_images + neut_images : -1][0]"
   ]
  },
  {
   "cell_type": "code",
   "execution_count": 8,
   "metadata": {
    "collapsed": true
   },
   "outputs": [],
   "source": [
    "pos_train_count = 0\n",
    "neg_train_count = 0\n",
    "neut_train_count = 0"
   ]
  },
  {
   "cell_type": "code",
   "execution_count": null,
   "metadata": {},
   "outputs": [
    {
     "name": "stdout",
     "output_type": "stream",
     "text": [
      "0\n",
      "100\n",
      "200\n",
      "300\n",
      "400\n",
      "500\n",
      "600\n",
      "700\n",
      "800\n",
      "900\n",
      "1000\n",
      "1100\n",
      "1200\n",
      "1300\n",
      "1400\n",
      "1500\n",
      "1600\n",
      "1700\n",
      "1800\n",
      "1900\n",
      "2000\n",
      "2100\n",
      "2200\n",
      "2300\n",
      "2400\n",
      "2500\n",
      "2600\n",
      "2700\n",
      "2800\n",
      "2900\n",
      "3000\n",
      "3100\n",
      "3200\n",
      "3300\n",
      "3400\n",
      "3500\n",
      "3600\n",
      "3700\n",
      "3800\n",
      "3900\n",
      "4000\n",
      "4100\n",
      "4200\n",
      "4300\n",
      "4400\n",
      "4500\n",
      "4600\n",
      "4700\n",
      "4800\n",
      "4900\n",
      "5000\n",
      "5100\n",
      "5200\n",
      "5300\n",
      "5400\n",
      "5500\n",
      "5600\n",
      "5700\n",
      "5800\n",
      "5900\n",
      "6000\n",
      "6100\n",
      "6200\n",
      "6300\n",
      "6400\n",
      "6500\n",
      "6600\n",
      "6700\n",
      "6800\n",
      "6900\n",
      "7000\n",
      "7100\n",
      "7200\n",
      "7300\n",
      "7400\n",
      "7500\n",
      "7600\n",
      "7700\n",
      "7800\n",
      "7900\n",
      "8000\n",
      "8100\n",
      "8200\n",
      "8300\n",
      "8400\n",
      "8500\n",
      "8600\n",
      "8700\n",
      "8800\n",
      "8900\n",
      "9000\n",
      "9100\n",
      "9200\n",
      "9300\n",
      "9400\n",
      "9500\n",
      "9600\n"
     ]
    }
   ],
   "source": [
    "for i in range(len(image_datasets['train'])):\n",
    "# for i in range(1):\n",
    "    image, label = image_datasets['train'][i]\n",
    "#     bounding_boxes, landmarks = detect_faces(image)\n",
    "    face_list = []\n",
    "    if label == 0:\n",
    "        bbox_lm = np.load('../Dataset/FaceFeatures/train/Negative/neg_' + str(neg_train_count + 1) +'.npz')\n",
    "        bounding_boxes = bbox_lm['a']\n",
    "        landmarks = bbox_lm['b']\n",
    "        \n",
    "        for j in range(len(bounding_boxes)):\n",
    "            bbox_coordinates = bounding_boxes[j]\n",
    "            img_face = image.crop((bbox_coordinates[0], bbox_coordinates[1], bbox_coordinates[2], bbox_coordinates[3]))\n",
    "#             if(len(face_list) != 0 and face_list[-1].shape[0] == int(bbox_coordinates[2] - bbox_coordinates[0])):\n",
    "#                 img_face = image.crop((bbox_coordinates[0] -1, bbox_coordinates[1], bbox_coordinates[2], bbox_coordinates[3]))\n",
    "            img_face = np.array(img_face)\n",
    "            \n",
    "            if len(face_list) != 0:\n",
    "                if img_face.shape[0] == face_list[-1].shape[0]:\n",
    "                    img_face = image.crop((bbox_coordinates[0] - 1, bbox_coordinates[1] - 1, bbox_coordinates[2], bbox_coordinates[3]))\n",
    "                    img_face = np.array(img_face)\n",
    "            \n",
    "            face_list.append(img_face)\n",
    "        face_list = np.asarray(face_list)\n",
    "        np.savez('../Dataset/SingleFaceFeatures/train/Negative/neg_' + str(neg_train_count + 1), a = face_list)\n",
    "        \n",
    "        neg_train_count += 1\n",
    "#         print('neg' + str(neg_train_count+1))\n",
    "        \n",
    "    elif label == 1:\n",
    "        bbox_lm = np.load('../Dataset/FaceFeatures/train/Neutral/neu_' + str(neut_train_count + 1) +'.npz')\n",
    "        bounding_boxes = bbox_lm['a']\n",
    "        landmarks = bbox_lm['b']\n",
    "        \n",
    "        for j in range(len(bounding_boxes)):\n",
    "            bbox_coordinates = bounding_boxes[j]\n",
    "            img_face = image.crop((bbox_coordinates[0], bbox_coordinates[1], bbox_coordinates[2], bbox_coordinates[3]))\n",
    "#             if(len(face_list) != 0 and face_list[-1].shape[0] == int(bbox_coordinates[2] - bbox_coordinates[0])):\n",
    "#                 img_face = image.crop((bbox_coordinates[0] -1, bbox_coordinates[1], bbox_coordinates[2], bbox_coordinates[3]))\n",
    "            img_face = np.array(img_face)\n",
    "            \n",
    "            if len(face_list) != 0:\n",
    "                if img_face.shape[0] == face_list[-1].shape[0]:\n",
    "                    img_face = image.crop((bbox_coordinates[0] - 1, bbox_coordinates[1] - 1, bbox_coordinates[2], bbox_coordinates[3]))\n",
    "                    img_face = np.array(img_face)\n",
    "            \n",
    "            face_list.append(img_face)\n",
    "        face_list = np.asarray(face_list)\n",
    "        np.savez('../Dataset/SingleFaceFeatures/train/Neutral/neu_' + str(neut_train_count + 1), a = face_list)\n",
    "        \n",
    "        neut_train_count += 1\n",
    "\n",
    "        \n",
    "    else:\n",
    "        bbox_lm = np.load('../Dataset/FaceFeatures/train/Positive/pos_' + str(pos_train_count + 1) +'.npz')\n",
    "        bounding_boxes = bbox_lm['a']\n",
    "        landmarks = bbox_lm['b']\n",
    "        \n",
    "        for j in range(len(bounding_boxes)):\n",
    "            bbox_coordinates = bounding_boxes[j]\n",
    "            img_face = image.crop((bbox_coordinates[0], bbox_coordinates[1], bbox_coordinates[2], bbox_coordinates[3]))\n",
    "#             if (len(face_list) != 0 and face_list[-1].shape[0] == bbox_coordinates[2] - bbox_coordinates[0]):\n",
    "#                 img_face = image.crop((bbox_coordinates[0] -1, bbox_coordinates[1], bbox_coordinates[2], bbox_coordinates[3]))\n",
    "            img_face = np.array(img_face)\n",
    "\n",
    "            if len(face_list) != 0:\n",
    "                if img_face.shape[0] == face_list[-1].shape[0]:\n",
    "                    img_face = image.crop((bbox_coordinates[0] - 1, bbox_coordinates[1] - 1, bbox_coordinates[2], bbox_coordinates[3]))\n",
    "                    img_face = np.array(img_face)\n",
    "            \n",
    "            face_list.append(img_face)\n",
    "        face_list = np.asarray(face_list)\n",
    "        np.savez('../Dataset/SingleFaceFeatures/train/Positive/pos_' + str(pos_train_count + 1), a = face_list)\n",
    "        \n",
    "        pos_train_count += 1\n",
    "    if i % 100 == 0:\n",
    "        print(i)"
   ]
  },
  {
   "cell_type": "code",
   "execution_count": null,
   "metadata": {
    "collapsed": true
   },
   "outputs": [],
   "source": []
  },
  {
   "cell_type": "code",
   "execution_count": null,
   "metadata": {
    "collapsed": true
   },
   "outputs": [],
   "source": [
    "# len(bounding_boxes)"
   ]
  },
  {
   "cell_type": "code",
   "execution_count": null,
   "metadata": {
    "collapsed": true
   },
   "outputs": [],
   "source": [
    "# landmarks[0]  # x1, x2, x3, x4, x5, y1, y2, y3, y4, y5"
   ]
  },
  {
   "cell_type": "markdown",
   "metadata": {},
   "source": [
    "# Test unit"
   ]
  },
  {
   "cell_type": "code",
   "execution_count": null,
   "metadata": {},
   "outputs": [],
   "source": [
    "image = image_datasets['train'][155][0]\n",
    "bounding_boxes, landmarks = detect_faces(image)"
   ]
  },
  {
   "cell_type": "code",
   "execution_count": null,
   "metadata": {},
   "outputs": [],
   "source": [
    "show_bboxes(image, bounding_boxes, landmarks)"
   ]
  },
  {
   "cell_type": "code",
   "execution_count": null,
   "metadata": {},
   "outputs": [],
   "source": [
    "print(len(bounding_boxes))\n",
    "print(len(landmarks))"
   ]
  },
  {
   "cell_type": "code",
   "execution_count": null,
   "metadata": {},
   "outputs": [],
   "source": [
    "face_list = []\n",
    "\n",
    "for j in range(len(bounding_boxes)):\n",
    "    bbox_coordinates = bounding_boxes[j]\n",
    "    img_face = image.crop((bbox_coordinates[0], bbox_coordinates[1], bbox_coordinates[2], bbox_coordinates[3]))\n",
    "    img_face = np.array(img_face)\n",
    "    print(img_face.shape)\n",
    "    face_list.append(img_face)\n",
    "    print(face_list)\n",
    "\n",
    "face_list = np.asaarray(face_list, dtype=object)\n",
    "np.savez('test', a = face_list)\n",
    "        "
   ]
  },
  {
   "cell_type": "code",
   "execution_count": null,
   "metadata": {},
   "outputs": [],
   "source": [
    "face_list.shape"
   ]
  },
  {
   "cell_type": "code",
   "execution_count": null,
   "metadata": {
    "collapsed": true
   },
   "outputs": [],
   "source": [
    "# img = image_datasets['train'][155][0]\n",
    "img1 = image.crop((bbc[0], bbc[1], bbc[2], bbc[3]))"
   ]
  },
  {
   "cell_type": "code",
   "execution_count": null,
   "metadata": {},
   "outputs": [],
   "source": [
    "img1"
   ]
  },
  {
   "cell_type": "code",
   "execution_count": null,
   "metadata": {
    "collapsed": true
   },
   "outputs": [],
   "source": [
    "img_np = np.array(img1)"
   ]
  },
  {
   "cell_type": "code",
   "execution_count": null,
   "metadata": {
    "collapsed": true
   },
   "outputs": [],
   "source": [
    "np.savez('./img', a = img_np)"
   ]
  },
  {
   "cell_type": "code",
   "execution_count": null,
   "metadata": {
    "collapsed": true
   },
   "outputs": [],
   "source": [
    "images = np.load('../Dataset/SingleFaceFeatures/train/Negative/neg_1.npz')['a']"
   ]
  },
  {
   "cell_type": "code",
   "execution_count": null,
   "metadata": {
    "collapsed": true
   },
   "outputs": [],
   "source": [
    "image = images[3]"
   ]
  },
  {
   "cell_type": "code",
   "execution_count": null,
   "metadata": {
    "collapsed": true
   },
   "outputs": [],
   "source": [
    "image = Image.fromarray(image)"
   ]
  },
  {
   "cell_type": "code",
   "execution_count": null,
   "metadata": {},
   "outputs": [],
   "source": [
    "image"
   ]
  },
  {
   "cell_type": "code",
   "execution_count": null,
   "metadata": {
    "collapsed": true
   },
   "outputs": [],
   "source": []
  },
  {
   "cell_type": "code",
   "execution_count": null,
   "metadata": {
    "collapsed": true
   },
   "outputs": [],
   "source": [
    "a = [np.array([1, 2, 3]),np.array([1, 2])]\n",
    "a = np.array(a)"
   ]
  },
  {
   "cell_type": "code",
   "execution_count": null,
   "metadata": {},
   "outputs": [],
   "source": [
    "a"
   ]
  },
  {
   "cell_type": "code",
   "execution_count": null,
   "metadata": {
    "collapsed": true
   },
   "outputs": [],
   "source": [
    "arr = np.load('./neg_151.npz')['a']"
   ]
  },
  {
   "cell_type": "code",
   "execution_count": null,
   "metadata": {},
   "outputs": [],
   "source": [
    "print(arr[0].shape)\n",
    "print(arr[1].shape)"
   ]
  },
  {
   "cell_type": "code",
   "execution_count": null,
   "metadata": {
    "collapsed": true
   },
   "outputs": [],
   "source": []
  }
 ],
 "metadata": {
  "kernelspec": {
   "display_name": "Python 3",
   "language": "python",
   "name": "python3"
  },
  "language_info": {
   "codemirror_mode": {
    "name": "ipython",
    "version": 3
   },
   "file_extension": ".py",
   "mimetype": "text/x-python",
   "name": "python",
   "nbconvert_exporter": "python",
   "pygments_lexer": "ipython3",
   "version": "3.5.4"
  }
 },
 "nbformat": 4,
 "nbformat_minor": 2
}
