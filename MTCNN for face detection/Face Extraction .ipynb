{
 "cells": [
  {
   "cell_type": "code",
   "execution_count": 1,
   "metadata": {
    "collapsed": true
   },
   "outputs": [],
   "source": [
    "%load_ext autoreload\n",
    "%autoreload 2"
   ]
  },
  {
   "cell_type": "code",
   "execution_count": 2,
   "metadata": {
    "collapsed": true
   },
   "outputs": [],
   "source": [
    "from src import detect_faces, show_bboxes\n",
    "from PIL import Image\n",
    "\n",
    "import torch\n",
    "from torchvision import transforms, datasets\n",
    "import numpy as np\n",
    "import os"
   ]
  },
  {
   "cell_type": "code",
   "execution_count": 3,
   "metadata": {
    "collapsed": true
   },
   "outputs": [],
   "source": [
    "# data_transforms = {\n",
    "#     'train' : transforms.Compose([transforms.ToPILImage()]),\n",
    "    \n",
    "#     'val' : transforms.Compose([transforms.ToPILImage()])\n",
    "# }\n",
    "\n",
    "data_dir = '../Dataset/emotiw/'\n",
    "\n",
    "# image_datasets = {x : datasets.ImageFolder(os.path.join(data_dir, x), data_transforms[x])\n",
    "#                     for x in ['train', 'val']}\n",
    "\n",
    "image_datasets = {x : datasets.ImageFolder(os.path.join(data_dir, x))\n",
    "                    for x in ['train', 'val']}\n",
    "\n",
    "# dataloaders = { x : torch.utils.data.DataLoader(image_datasets[x], batch_size = 1, shuffle=True, num_workers= 4)\n",
    "#                    for x in ['train', 'val']}\n",
    "\n",
    "# dataset_sizes = {x : len(image_datasets[x]) for x in ['train', 'val']}\n",
    "\n",
    "class_names = image_datasets['train'].classes\n",
    "\n",
    "device = torch.device('cuda' if torch.cuda.is_available() else 'cpu')"
   ]
  },
  {
   "cell_type": "code",
   "execution_count": 4,
   "metadata": {},
   "outputs": [
    {
     "data": {
      "text/plain": [
       "['Negative', 'Neutral', 'Positive']"
      ]
     },
     "execution_count": 4,
     "metadata": {},
     "output_type": "execute_result"
    }
   ],
   "source": [
    "class_names"
   ]
  },
  {
   "cell_type": "code",
   "execution_count": 5,
   "metadata": {
    "collapsed": true
   },
   "outputs": [],
   "source": [
    "train_data = image_datasets['val']"
   ]
  },
  {
   "cell_type": "code",
   "execution_count": 6,
   "metadata": {
    "collapsed": true
   },
   "outputs": [],
   "source": [
    "# type(train_data[0:5])\n",
    "\n",
    "# # neg_images = []\n",
    "# # neutral_images = []\n",
    "# # pos_images = []\n",
    "# # for i in range(len(image_datasets['train'])):\n",
    "# #     label = image_datasets['train'][i][1]\n",
    "# #     if label == 0:\n",
    "# #         neg_images.append(image_datasets['train'][i][0])\n",
    "# #         print('neg')\n",
    "# #     elif label == 1:\n",
    "# #         neutral_images.append(image_datasets['train'][i][0])\n",
    "# #         print('neut')\n",
    "# #     else:\n",
    "# #         pos_images.append(image_datasets['train'][i][0])\n",
    "# #         print('pos')"
   ]
  },
  {
   "cell_type": "code",
   "execution_count": 7,
   "metadata": {
    "collapsed": true
   },
   "outputs": [],
   "source": [
    "# neg_images = 2758\n",
    "# neut_images = 3080\n",
    "# pos_images = 3997\n",
    "\n",
    "# train_neg = image_datasets['train'][0:neg_images][0]\n",
    "# train_neut = image_datasets['train'][neg_images: neg_images + neut_images][0]\n",
    "# train_pos = image_datasets['train'][neg_images + neut_images : -1][0]\n",
    "\n",
    "# val_neg = image_datasets['val'][0:neg_images][0]\n",
    "# val_neut = image_datasets['val'][neg_images: neg_images + neut_images][0]\n",
    "# val_pos = image_datasets['val'][neg_images + neut_images : -1][0]"
   ]
  },
  {
   "cell_type": "code",
   "execution_count": 8,
   "metadata": {
    "collapsed": true
   },
   "outputs": [],
   "source": [
    "pos_train_count = 0\n",
    "neg_train_count = 0\n",
    "neut_train_count = 0"
   ]
  },
  {
   "cell_type": "code",
   "execution_count": null,
   "metadata": {},
   "outputs": [
    {
     "name": "stderr",
     "output_type": "stream",
     "text": [
      "C:\\Users\\Aarush\\Desktop\\EmotiW\\MTCNN for face detection\\src\\first_stage.py:32: UserWarning: volatile was removed and now has no effect. Use `with torch.no_grad():` instead.\n",
      "  img = Variable(torch.FloatTensor(_preprocess(img)), volatile=True)\n",
      "C:\\Users\\Aarush\\Desktop\\EmotiW\\MTCNN for face detection\\src\\get_nets.py:70: UserWarning: Implicit dimension choice for softmax has been deprecated. Change the call to include dim=X as an argument.\n",
      "  a = F.softmax(a)\n",
      "C:\\Users\\Aarush\\Desktop\\EmotiW\\MTCNN for face detection\\src\\detector.py:79: UserWarning: volatile was removed and now has no effect. Use `with torch.no_grad():` instead.\n",
      "  img_boxes = Variable(torch.FloatTensor(img_boxes), volatile=True)\n",
      "C:\\Users\\Aarush\\Desktop\\EmotiW\\MTCNN for face detection\\src\\get_nets.py:115: UserWarning: Implicit dimension choice for softmax has been deprecated. Change the call to include dim=X as an argument.\n",
      "  a = F.softmax(a)\n",
      "C:\\Users\\Aarush\\Desktop\\EmotiW\\MTCNN for face detection\\src\\detector.py:100: UserWarning: volatile was removed and now has no effect. Use `with torch.no_grad():` instead.\n",
      "  img_boxes = Variable(torch.FloatTensor(img_boxes), volatile=True)\n",
      "C:\\Users\\Aarush\\Desktop\\EmotiW\\MTCNN for face detection\\src\\get_nets.py:168: UserWarning: Implicit dimension choice for softmax has been deprecated. Change the call to include dim=X as an argument.\n",
      "  a = F.softmax(a)\n"
     ]
    },
    {
     "name": "stdout",
     "output_type": "stream",
     "text": [
      "0\n"
     ]
    }
   ],
   "source": [
    "for i in range(len(image_datasets['val'])):\n",
    "# for i in range(1):\n",
    "    image, label = image_datasets['val'][i]\n",
    "    bounding_boxes, landmarks = detect_faces(image)\n",
    "    if label == 0:\n",
    "        np.savez('../Dataset/FaceFeatures/val/Negative/neg_' + str(neg_train_count + 1), a=bounding_boxes, b=landmarks)\n",
    "        neg_train_count = neg_train_count + 1\n",
    "    elif label == 1:\n",
    "        np.savez('../Dataset/FaceFeatures/val/Neutral/neu_' + str(neut_train_count + 1), a=bounding_boxes, b=landmarks)\n",
    "        neut_train_count += 1\n",
    "    else:\n",
    "        np.savez('../Dataset/FaceFeatures/val/Positive/pos_' + str(pos_train_count + 1), a=bounding_boxes, b=landmarks)\n",
    "        pos_train_count += 1\n",
    "    if i % 100 == 0:\n",
    "        print(i)"
   ]
  },
  {
   "cell_type": "code",
   "execution_count": null,
   "metadata": {
    "collapsed": true
   },
   "outputs": [],
   "source": [
    "# img = Image.open('images/office1.jpg')\n",
    "# bounding_boxes, landmarks = detect_faces(img)\n",
    "# # show_bboxes(img, bounding_boxes, landmarks)"
   ]
  },
  {
   "cell_type": "code",
   "execution_count": null,
   "metadata": {
    "collapsed": true
   },
   "outputs": [],
   "source": [
    "# type(bounding_boxes)"
   ]
  },
  {
   "cell_type": "code",
   "execution_count": null,
   "metadata": {
    "collapsed": true
   },
   "outputs": [],
   "source": [
    "bounding_boxes, landmarks = detect_faces(image_datasets['train'][7][0])"
   ]
  },
  {
   "cell_type": "code",
   "execution_count": null,
   "metadata": {
    "collapsed": true
   },
   "outputs": [],
   "source": []
  }
 ],
 "metadata": {
  "kernelspec": {
   "display_name": "Python 3",
   "language": "python",
   "name": "python3"
  },
  "language_info": {
   "codemirror_mode": {
    "name": "ipython",
    "version": 3
   },
   "file_extension": ".py",
   "mimetype": "text/x-python",
   "name": "python",
   "nbconvert_exporter": "python",
   "pygments_lexer": "ipython3",
   "version": "3.5.4"
  }
 },
 "nbformat": 4,
 "nbformat_minor": 2
}
