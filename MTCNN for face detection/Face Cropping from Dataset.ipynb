{
 "cells": [
  {
   "cell_type": "code",
   "execution_count": null,
   "metadata": {
    "collapsed": true
   },
   "outputs": [],
   "source": [
    "# %load_ext autoreload\n",
    "# %autoreload 2"
   ]
  },
  {
   "cell_type": "code",
   "execution_count": 1,
   "metadata": {
    "collapsed": true
   },
   "outputs": [],
   "source": [
    "import warnings\n",
    "warnings.filterwarnings('ignore')"
   ]
  },
  {
   "cell_type": "code",
   "execution_count": 2,
   "metadata": {
    "collapsed": true
   },
   "outputs": [],
   "source": [
    "from src import detect_faces, show_bboxes\n",
    "from PIL import Image\n",
    "\n",
    "import torch\n",
    "from torchvision import transforms, datasets\n",
    "import numpy as np\n",
    "import os"
   ]
  },
  {
   "cell_type": "code",
   "execution_count": 3,
   "metadata": {
    "collapsed": true
   },
   "outputs": [],
   "source": [
    "dataset_path = '../Dataset/emotiw/'\n",
    "face_coordinates_directory = '../Dataset/FaceCoordinates/'\n",
    "processed_dataset_path = '../Dataset/CroppedFaces/'"
   ]
  },
  {
   "cell_type": "code",
   "execution_count": 4,
   "metadata": {
    "collapsed": true
   },
   "outputs": [],
   "source": [
    "# data_transforms = {\n",
    "#     'train' : transforms.Compose([transforms.ToPILImage()]),\n",
    "    \n",
    "#     'val' : transforms.Compose([transforms.ToPILImage()])\n",
    "# }\n",
    "\n",
    "\n",
    "# image_datasets = {x : datasets.ImageFolder(os.path.join(dataset_path, x), data_transforms[x])\n",
    "#                     for x in ['train', 'val']}\n",
    "\n",
    "image_datasets = {x : datasets.ImageFolder(os.path.join(dataset_path, x))\n",
    "                    for x in ['train', 'val']}\n",
    "\n",
    "# dataloaders = { x : torch.utils.data.DataLoader(image_datasets[x], batch_size = 1, shuffle=True, num_workers= 4)\n",
    "#                    for x in ['train', 'val']}\n",
    "\n",
    "# dataset_sizes = {x : len(image_datasets[x]) for x in ['train', 'val']}\n",
    "\n",
    "class_names = image_datasets['train'].classes\n",
    "\n",
    "device = torch.device('cuda' if torch.cuda.is_available() else 'cpu')"
   ]
  },
  {
   "cell_type": "code",
   "execution_count": 5,
   "metadata": {},
   "outputs": [
    {
     "data": {
      "text/plain": [
       "['Negative', 'Neutral', 'Positive']"
      ]
     },
     "execution_count": 5,
     "metadata": {},
     "output_type": "execute_result"
    }
   ],
   "source": [
    "class_names"
   ]
  },
  {
   "cell_type": "code",
   "execution_count": 6,
   "metadata": {
    "collapsed": true
   },
   "outputs": [],
   "source": [
    "# type(train_data[0:5])\n",
    "\n",
    "# # neg_images = []\n",
    "# # neutral_images = []\n",
    "# # pos_images = []\n",
    "# # for i in range(len(image_datasets['train'])):\n",
    "# #     label = image_datasets['train'][i][1]\n",
    "# #     if label == 0:\n",
    "# #         neg_images.append(image_datasets['train'][i][0])\n",
    "# #         print('neg')\n",
    "# #     elif label == 1:\n",
    "# #         neutral_images.append(image_datasets['train'][i][0])\n",
    "# #         print('neut')\n",
    "# #     else:\n",
    "# #         pos_images.append(image_datasets['train'][i][0])\n",
    "# #         print('pos')"
   ]
  },
  {
   "cell_type": "code",
   "execution_count": 7,
   "metadata": {
    "collapsed": true
   },
   "outputs": [],
   "source": [
    "# neg_images = 2758\n",
    "# neut_images = 3080\n",
    "# pos_images = 3997\n",
    "\n",
    "# train_neg = image_datasets['train'][0:neg_images][0]\n",
    "# train_neut = image_datasets['train'][neg_images: neg_images + neut_images][0]\n",
    "# train_pos = image_datasets['train'][neg_images + neut_images : -1][0]\n",
    "\n",
    "# val_neg = image_datasets['val'][0:neg_images][0]\n",
    "# val_neut = image_datasets['val'][neg_images: neg_images + neut_images][0]\n",
    "# val_pos = image_datasets['val'][neg_images + neut_images : -1][0]"
   ]
  },
  {
   "cell_type": "code",
   "execution_count": 8,
   "metadata": {
    "collapsed": true
   },
   "outputs": [],
   "source": [
    "training_dataset = image_datasets['train']\n",
    "validation_dataset = image_datasets['val']"
   ]
  },
  {
   "cell_type": "code",
   "execution_count": 9,
   "metadata": {
    "collapsed": true
   },
   "outputs": [],
   "source": [
    "neg_train = sorted(os.listdir(dataset_path + 'train/Negative/'))\n",
    "neu_train = sorted(os.listdir(dataset_path + 'train/Neutral/'))\n",
    "pos_train = sorted(os.listdir(dataset_path + 'train/Positive/'))\n",
    "\n",
    "neg_val = sorted(os.listdir(dataset_path + 'val/Negative/'))\n",
    "neu_val = sorted(os.listdir(dataset_path + 'val/Neutral/'))\n",
    "pos_val = sorted(os.listdir(dataset_path + 'val/Positive/'))"
   ]
  },
  {
   "cell_type": "code",
   "execution_count": 10,
   "metadata": {
    "collapsed": true
   },
   "outputs": [],
   "source": [
    "neg_train_filelist = [x.split('.')[0] for x in neg_train]\n",
    "neu_train_filelist = [x.split('.')[0] for x in neu_train]\n",
    "pos_train_filelist = [x.split('.')[0] for x in pos_train]\n",
    "\n",
    "neg_val_filelist = [x.split('.')[0] for x in neg_val]\n",
    "neu_val_filelist = [x.split('.')[0] for x in neu_val]\n",
    "pos_val_filelist = [x.split('.')[0] for x in pos_val]"
   ]
  },
  {
   "cell_type": "code",
   "execution_count": 11,
   "metadata": {},
   "outputs": [
    {
     "name": "stdout",
     "output_type": "stream",
     "text": [
      "['neg_1', 'neg_10', 'neg_100', 'neg_1000', 'neg_1001', 'neg_1002', 'neg_1003', 'neg_1004', 'neg_1005', 'neg_1006']\n",
      "['neu_1', 'neu_10', 'neu_100', 'neu_1000', 'neu_1001', 'neu_1002', 'neu_1003', 'neu_1004', 'neu_1005', 'neu_1006']\n",
      "['pos_1', 'pos_10', 'pos_100', 'pos_1000', 'pos_1001', 'pos_1002', 'pos_1003', 'pos_1004', 'pos_1005', 'pos_1006']\n",
      "['neg_1', 'neg_10', 'neg_100', 'neg_1000', 'neg_1001', 'neg_1002', 'neg_1003', 'neg_1004', 'neg_1005', 'neg_1006']\n",
      "['neu_1', 'neu_10', 'neu_100', 'neu_1000', 'neu_1001', 'neu_1002', 'neu_1003', 'neu_1004', 'neu_1005', 'neu_1006']\n",
      "['pos_1', 'pos_10', 'pos_100', 'pos_1000', 'pos_1001', 'pos_1002', 'pos_1003', 'pos_1004', 'pos_1005', 'pos_1006']\n"
     ]
    }
   ],
   "source": [
    "print(neg_train_filelist[:10])\n",
    "print(neu_train_filelist[:10])\n",
    "print(pos_train_filelist[:10])\n",
    "\n",
    "print(neg_val_filelist[:10])\n",
    "print(neu_val_filelist[:10])\n",
    "print(pos_val_filelist[:10])"
   ]
  },
  {
   "cell_type": "code",
   "execution_count": 12,
   "metadata": {
    "collapsed": true
   },
   "outputs": [],
   "source": [
    "train_filelist = neg_train_filelist + neu_train_filelist + pos_train_filelist\n",
    "val_filelist = neg_val_filelist + neu_val_filelist + pos_val_filelist"
   ]
  },
  {
   "cell_type": "code",
   "execution_count": 13,
   "metadata": {},
   "outputs": [
    {
     "name": "stdout",
     "output_type": "stream",
     "text": [
      "9815\n",
      "4346\n"
     ]
    }
   ],
   "source": [
    "print(len(training_dataset))\n",
    "print(len(validation_dataset))"
   ]
  },
  {
   "cell_type": "code",
   "execution_count": null,
   "metadata": {
    "collapsed": true
   },
   "outputs": [],
   "source": []
  },
  {
   "cell_type": "code",
   "execution_count": 14,
   "metadata": {
    "collapsed": true
   },
   "outputs": [],
   "source": [
    "# pos_train_count = 0\n",
    "# neg_train_count = 0\n",
    "# neut_train_count = 0"
   ]
  },
  {
   "cell_type": "code",
   "execution_count": 15,
   "metadata": {
    "collapsed": true
   },
   "outputs": [],
   "source": [
    "# for i in range(len(image_datasets['train'])):\n",
    "# # for i in range(1):\n",
    "#     image, label = image_datasets['train'][i]\n",
    "# #     bounding_boxes, landmarks = detect_faces(image)\n",
    "#     face_list = []\n",
    "#     if label == 0:\n",
    "#         bbox_lm = np.load('../Dataset/FaceFeatures/train/Negative/neg_' + str(neg_train_count + 1) +'.npz')\n",
    "#         bounding_boxes = bbox_lm['a']\n",
    "#         landmarks = bbox_lm['b']\n",
    "        \n",
    "#         for j in range(len(bounding_boxes)):\n",
    "#             bbox_coordinates = bounding_boxes[j]\n",
    "#             img_face = image.crop((bbox_coordinates[0], bbox_coordinates[1], bbox_coordinates[2], bbox_coordinates[3]))\n",
    "# #             if(len(face_list) != 0 and face_list[-1].shape[0] == int(bbox_coordinates[2] - bbox_coordinates[0])):\n",
    "# #                 img_face = image.crop((bbox_coordinates[0] -1, bbox_coordinates[1], bbox_coordinates[2], bbox_coordinates[3]))\n",
    "#             img_face = np.array(img_face)\n",
    "            \n",
    "#             if len(face_list) != 0:\n",
    "#                 if img_face.shape[0] == face_list[-1].shape[0]:\n",
    "#                     img_face = image.crop((bbox_coordinates[0] - 1, bbox_coordinates[1] - 1, bbox_coordinates[2], bbox_coordinates[3]))\n",
    "#                     img_face = np.array(img_face)\n",
    "            \n",
    "#             face_list.append(img_face)\n",
    "#         face_list = np.asarray(face_list)\n",
    "#         np.savez('../Dataset/SingleFaceFeatures/train/Negative/neg_' + str(neg_train_count + 1), a = face_list)\n",
    "        \n",
    "#         neg_train_count += 1\n",
    "# #         print('neg' + str(neg_train_count+1))\n",
    "        \n",
    "#     elif label == 1:\n",
    "#         bbox_lm = np.load('../Dataset/FaceFeatures/train/Neutral/neu_' + str(neut_train_count + 1) +'.npz')\n",
    "#         bounding_boxes = bbox_lm['a']\n",
    "#         landmarks = bbox_lm['b']\n",
    "        \n",
    "#         for j in range(len(bounding_boxes)):\n",
    "#             bbox_coordinates = bounding_boxes[j]\n",
    "#             img_face = image.crop((bbox_coordinates[0], bbox_coordinates[1], bbox_coordinates[2], bbox_coordinates[3]))\n",
    "# #             if(len(face_list) != 0 and face_list[-1].shape[0] == int(bbox_coordinates[2] - bbox_coordinates[0])):\n",
    "# #                 img_face = image.crop((bbox_coordinates[0] -1, bbox_coordinates[1], bbox_coordinates[2], bbox_coordinates[3]))\n",
    "#             img_face = np.array(img_face)\n",
    "            \n",
    "#             if len(face_list) != 0:\n",
    "#                 if img_face.shape[0] == face_list[-1].shape[0]:\n",
    "#                     img_face = image.crop((bbox_coordinates[0] - 1, bbox_coordinates[1] - 1, bbox_coordinates[2], bbox_coordinates[3]))\n",
    "#                     img_face = np.array(img_face)\n",
    "            \n",
    "#             face_list.append(img_face)\n",
    "#         face_list = np.asarray(face_list)\n",
    "#         np.savez('../Dataset/SingleFaceFeatures/train/Neutral/neu_' + str(neut_train_count + 1), a = face_list)\n",
    "        \n",
    "#         neut_train_count += 1\n",
    "\n",
    "        \n",
    "#     else:\n",
    "#         bbox_lm = np.load('../Dataset/FaceFeatures/train/Positive/pos_' + str(pos_train_count + 1) +'.npz')\n",
    "#         bounding_boxes = bbox_lm['a']\n",
    "#         landmarks = bbox_lm['b']\n",
    "        \n",
    "#         for j in range(len(bounding_boxes)):\n",
    "#             bbox_coordinates = bounding_boxes[j]\n",
    "#             img_face = image.crop((bbox_coordinates[0], bbox_coordinates[1], bbox_coordinates[2], bbox_coordinates[3]))\n",
    "# #             if (len(face_list) != 0 and face_list[-1].shape[0] == bbox_coordinates[2] - bbox_coordinates[0]):\n",
    "# #                 img_face = image.crop((bbox_coordinates[0] -1, bbox_coordinates[1], bbox_coordinates[2], bbox_coordinates[3]))\n",
    "#             img_face = np.array(img_face)\n",
    "\n",
    "#             if len(face_list) != 0:\n",
    "#                 if img_face.shape[0] == face_list[-1].shape[0]:\n",
    "#                     img_face = image.crop((bbox_coordinates[0] - 1, bbox_coordinates[1] - 1, bbox_coordinates[2], bbox_coordinates[3]))\n",
    "#                     img_face = np.array(img_face)\n",
    "            \n",
    "#             face_list.append(img_face)\n",
    "#         face_list = np.asarray(face_list)\n",
    "#         np.savez('../Dataset/SingleFaceFeatures/train/Positive/pos_' + str(pos_train_count + 1), a = face_list)\n",
    "        \n",
    "#         pos_train_count += 1\n",
    "#     if i % 100 == 0:\n",
    "#         print(i)"
   ]
  },
  {
   "cell_type": "code",
   "execution_count": null,
   "metadata": {},
   "outputs": [
    {
     "name": "stdout",
     "output_type": "stream",
     "text": [
      "0\n",
      "No bounding boxes for neg_10. Adding empty file for the same\n",
      "100\n",
      "200\n",
      "No bounding boxes for neg_118. Adding empty file for the same\n",
      "No bounding boxes for neg_123. Adding empty file for the same\n",
      "300\n",
      "400\n",
      "No bounding boxes for neg_14. Adding empty file for the same\n",
      "No bounding boxes for neg_141. Adding empty file for the same\n",
      "No bounding boxes for neg_144. Adding empty file for the same\n",
      "500\n",
      "600\n",
      "700\n",
      "800\n",
      "900\n",
      "1000\n",
      "No bounding boxes for neg_190. Adding empty file for the same\n",
      "1100\n",
      "1200\n",
      "1300\n",
      "1400\n",
      "1500\n",
      "No bounding boxes for neg_2373. Adding empty file for the same\n",
      "No bounding boxes for neg_2395. Adding empty file for the same\n",
      "No bounding boxes for neg_2434. Adding empty file for the same\n",
      "1600\n",
      "1700\n",
      "No bounding boxes for neg_254. Adding empty file for the same\n",
      "No bounding boxes for neg_261. Adding empty file for the same\n",
      "1800\n",
      "No bounding boxes for neg_2671. Adding empty file for the same\n",
      "No bounding boxes for neg_2684. Adding empty file for the same\n",
      "No bounding boxes for neg_2694. Adding empty file for the same\n",
      "1900\n",
      "No bounding boxes for neg_2728. Adding empty file for the same\n",
      "No bounding boxes for neg_2734. Adding empty file for the same\n",
      "No bounding boxes for neg_276. Adding empty file for the same\n",
      "No bounding boxes for neg_30. Adding empty file for the same\n",
      "2000\n",
      "No bounding boxes for neg_324. Adding empty file for the same\n",
      "No bounding boxes for neg_33. Adding empty file for the same\n",
      "2100\n",
      "No bounding boxes for neg_434. Adding empty file for the same\n",
      "No bounding boxes for neg_462. Adding empty file for the same\n",
      "2200\n",
      "No bounding boxes for neg_54. Adding empty file for the same\n",
      "2300\n",
      "No bounding boxes for neg_650. Adding empty file for the same\n",
      "2400\n",
      "No bounding boxes for neg_761. Adding empty file for the same\n",
      "2500\n",
      "No bounding boxes for neg_8. Adding empty file for the same\n",
      "No bounding boxes for neg_83. Adding empty file for the same\n",
      "2600\n",
      "No bounding boxes for neg_909. Adding empty file for the same\n",
      "No bounding boxes for neg_917. Adding empty file for the same\n",
      "No bounding boxes for neg_929. Adding empty file for the same\n",
      "2700\n",
      "2800\n",
      "No bounding boxes for neu_1049. Adding empty file for the same\n",
      "2900\n",
      "No bounding boxes for neu_1176. Adding empty file for the same\n",
      "3000\n",
      "No bounding boxes for neu_1254. Adding empty file for the same\n",
      "No bounding boxes for neu_1270. Adding empty file for the same\n",
      "3100\n",
      "3200\n",
      "No bounding boxes for neu_1408. Adding empty file for the same\n",
      "No bounding boxes for neu_1413. Adding empty file for the same\n",
      "3300\n",
      "3400\n",
      "3500\n",
      "No bounding boxes for neu_1686. Adding empty file for the same\n",
      "No bounding boxes for neu_1734. Adding empty file for the same\n",
      "3600\n",
      "No bounding boxes for neu_1789. Adding empty file for the same\n",
      "No bounding boxes for neu_1818. Adding empty file for the same\n",
      "3700\n",
      "No bounding boxes for neu_1887. Adding empty file for the same\n",
      "No bounding boxes for neu_1896. Adding empty file for the same\n",
      "3800\n",
      "No bounding boxes for neu_1938. Adding empty file for the same\n",
      "No bounding boxes for neu_1954. Adding empty file for the same\n",
      "No bounding boxes for neu_2016. Adding empty file for the same\n",
      "No bounding boxes for neu_2025. Adding empty file for the same\n",
      "3900\n",
      "No bounding boxes for neu_2030. Adding empty file for the same\n",
      "No bounding boxes for neu_2031. Adding empty file for the same\n",
      "4000\n",
      "No bounding boxes for neu_2133. Adding empty file for the same\n",
      "No bounding boxes for neu_2165. Adding empty file for the same\n",
      "4100\n",
      "No bounding boxes for neu_2228. Adding empty file for the same\n",
      "No bounding boxes for neu_2289. Adding empty file for the same\n",
      "No bounding boxes for neu_2291. Adding empty file for the same\n",
      "No bounding boxes for neu_2292. Adding empty file for the same\n",
      "No bounding boxes for neu_2293. Adding empty file for the same\n",
      "No bounding boxes for neu_2294. Adding empty file for the same\n",
      "No bounding boxes for neu_2295. Adding empty file for the same\n",
      "4200\n",
      "No bounding boxes for neu_2300. Adding empty file for the same\n",
      "No bounding boxes for neu_2301. Adding empty file for the same\n",
      "No bounding boxes for neu_2304. Adding empty file for the same\n",
      "No bounding boxes for neu_2307. Adding empty file for the same\n",
      "No bounding boxes for neu_2308. Adding empty file for the same\n",
      "No bounding boxes for neu_238. Adding empty file for the same\n",
      "4300\n",
      "4400\n",
      "No bounding boxes for neu_2497. Adding empty file for the same\n",
      "4500\n",
      "No bounding boxes for neu_258. Adding empty file for the same\n",
      "4600\n",
      "4700\n",
      "No bounding boxes for neu_2753. Adding empty file for the same\n",
      "4800\n",
      "4900\n",
      "5000\n",
      "No bounding boxes for neu_324. Adding empty file for the same\n",
      "No bounding boxes for neu_327. Adding empty file for the same\n",
      "5100\n",
      "No bounding boxes for neu_366. Adding empty file for the same\n",
      "No bounding boxes for neu_403. Adding empty file for the same\n",
      "No bounding boxes for neu_415. Adding empty file for the same\n",
      "5200\n",
      "No bounding boxes for neu_504. Adding empty file for the same\n",
      "5300\n",
      "No bounding boxes for neu_583. Adding empty file for the same\n",
      "5400\n",
      "No bounding boxes for neu_652. Adding empty file for the same\n",
      "No bounding boxes for neu_680. Adding empty file for the same\n",
      "No bounding boxes for neu_681. Adding empty file for the same\n",
      "No bounding boxes for neu_683. Adding empty file for the same\n",
      "5500\n",
      "No bounding boxes for neu_713. Adding empty file for the same\n",
      "No bounding boxes for neu_746. Adding empty file for the same\n",
      "No bounding boxes for neu_762. Adding empty file for the same\n",
      "5600\n",
      "5700\n",
      "5800\n",
      "No bounding boxes for neu_982. Adding empty file for the same\n",
      "No bounding boxes for pos_1046. Adding empty file for the same\n",
      "5900\n"
     ]
    }
   ],
   "source": [
    "for i in range(len(training_dataset)):\n",
    "# for i in range(10):\n",
    "    image, label = training_dataset[i]\n",
    "#     bounding_boxes, landmarks = detect_faces(image)\n",
    "    face_list = []\n",
    "    landmarks_new_coordinates = []\n",
    "    if label == 0:\n",
    "        bbox_lm = np.load(face_coordinates_directory + 'train/Negative/' + train_filelist[i] +'.npz')\n",
    "        bounding_boxes = bbox_lm['a']\n",
    "        if(bounding_boxes.size == 0):\n",
    "            print(\"No bounding boxes for \" + train_filelist[i] + \". Adding empty file for the same\")\n",
    "            np.savez(processed_dataset_path + 'train/Negative' + train_filelist[i], a = np.zeros(1), b = np.zeros(1))\n",
    "            continue\n",
    "        landmarks = bbox_lm['b']\n",
    "        \n",
    "        for j in range(len(bounding_boxes)):\n",
    "            bbox_coordinates = bounding_boxes[j]\n",
    "            landmark = landmarks[j]\n",
    "            img_face = image.crop((bbox_coordinates[0], bbox_coordinates[1], bbox_coordinates[2], bbox_coordinates[3]))\n",
    "#             if(len(face_list) != 0 and face_list[-1].shape[0] == int(bbox_coordinates[2] - bbox_coordinates[0])):\n",
    "#                 img_face = image.crop((bbox_coordinates[0] -1, bbox_coordinates[1], bbox_coordinates[2], bbox_coordinates[3]))\n",
    "            x = bbox_coordinates[0]\n",
    "            y = bbox_coordinates[1]\n",
    "            for k in range(5):\n",
    "                landmark[k] -= x\n",
    "                landmark[k+5] -= y\n",
    "            img_face = np.array(img_face)\n",
    "            landmark = np.array(landmark)\n",
    "            \n",
    "            \n",
    "            if len(face_list) != 0:\n",
    "                if img_face.shape[0] == face_list[-1].shape[0]:\n",
    "                    img_face = image.crop((bbox_coordinates[0] - 1, bbox_coordinates[1] - 1, bbox_coordinates[2], bbox_coordinates[3]))\n",
    "                    img_face = np.array(img_face)\n",
    "                    landmark +=1\n",
    "            \n",
    "            face_list.append(img_face)\n",
    "            landmarks_new_coordinates.append(landmark)\n",
    "        face_list = np.asarray(face_list)\n",
    "        landmarks_new_coordinates = np.asarray(landmarks_new_coordinates)\n",
    "        np.savez(processed_dataset_path + 'train/Negative/' + train_filelist[i], a = face_list, b = landmarks_new_coordinates)\n",
    "        \n",
    "    elif label == 1:\n",
    "        bbox_lm = np.load(face_coordinates_directory + 'train/Neutral/' + train_filelist[i] +'.npz')\n",
    "        bounding_boxes = bbox_lm['a']\n",
    "        if(bounding_boxes.size == 0):\n",
    "            print(\"No bounding boxes for \" + train_filelist[i] + \". Adding empty file for the same\")\n",
    "            np.savez(processed_dataset_path + 'train/Neutral' + train_filelist[i], a = np.zeros(1), b = np.zeros(1))\n",
    "            continue\n",
    "        landmarks = bbox_lm['b']\n",
    "        \n",
    "        for j in range(len(bounding_boxes)):\n",
    "            bbox_coordinates = bounding_boxes[j]\n",
    "            landmark = landmarks[j]\n",
    "            img_face = image.crop((bbox_coordinates[0], bbox_coordinates[1], bbox_coordinates[2], bbox_coordinates[3]))\n",
    "#             if(len(face_list) != 0 and face_list[-1].shape[0] == int(bbox_coordinates[2] - bbox_coordinates[0])):\n",
    "#                 img_face = image.crop((bbox_coordinates[0] -1, bbox_coordinates[1], bbox_coordinates[2], bbox_coordinates[3]))\n",
    "            x = bbox_coordinates[0]\n",
    "            y = bbox_coordinates[1]\n",
    "            for k in range(5):\n",
    "                landmark[k] -= x\n",
    "                landmark[k+5] -= y\n",
    "            img_face = np.array(img_face)\n",
    "            landmark = np.array(landmark)\n",
    "            \n",
    "            if len(face_list) != 0:\n",
    "                if img_face.shape[0] == face_list[-1].shape[0]:\n",
    "                    img_face = image.crop((bbox_coordinates[0] - 1, bbox_coordinates[1] - 1, bbox_coordinates[2], bbox_coordinates[3]))\n",
    "                    img_face = np.array(img_face)\n",
    "                    landmark += 1\n",
    "            \n",
    "            face_list.append(img_face)\n",
    "            landmarks_new_coordinates.append(landmark)\n",
    "        face_list = np.asarray(face_list)\n",
    "        landmarks_new_coordinates = np.asarray(landmarks_new_coordinates)\n",
    "        np.savez(processed_dataset_path + 'train/Neutral/' + train_filelist[i], a = face_list, b = landmarks_new_coordinates)\n",
    "        \n",
    "    else:\n",
    "        bbox_lm = np.load(face_coordinates_directory + 'train/Positive/' + train_filelist[i] +'.npz')\n",
    "        bounding_boxes = bbox_lm['a']\n",
    "        if(bounding_boxes.size == 0):\n",
    "            print(\"No bounding boxes for \" + train_filelist[i] + \". Adding empty file for the same\")\n",
    "            np.savez(processed_dataset_path + 'train/Positive' + train_filelist[i], a = np.zeros(1), b = np.zeros(1))\n",
    "            continue\n",
    "        landmarks = bbox_lm['b']\n",
    "        \n",
    "        for j in range(len(bounding_boxes)):\n",
    "            bbox_coordinates = bounding_boxes[j]\n",
    "            landmark = landmarks[j]\n",
    "            img_face = image.crop((bbox_coordinates[0], bbox_coordinates[1], bbox_coordinates[2], bbox_coordinates[3]))\n",
    "#             if(len(face_list) != 0 and face_list[-1].shape[0] == int(bbox_coordinates[2] - bbox_coordinates[0])):\n",
    "#                 img_face = image.crop((bbox_coordinates[0] -1, bbox_coordinates[1], bbox_coordinates[2], bbox_coordinates[3]))\n",
    "            x = bbox_coordinates[0]\n",
    "            y = bbox_coordinates[1]\n",
    "            for k in range(5):\n",
    "                landmark[k] -= x\n",
    "                landmark[k+5] -= y\n",
    "            img_face = np.array(img_face)\n",
    "            landmark = np.array(landmark)\n",
    "            \n",
    "            if len(face_list) != 0:\n",
    "                if img_face.shape[0] == face_list[-1].shape[0]:\n",
    "                    img_face = image.crop((bbox_coordinates[0] - 1, bbox_coordinates[1] - 1, bbox_coordinates[2], bbox_coordinates[3]))\n",
    "                    img_face = np.array(img_face)\n",
    "                    landmark += 1\n",
    "            \n",
    "            face_list.append(img_face)\n",
    "            landmarks_new_coordinates.append(landmark)\n",
    "        face_list = np.asarray(face_list)\n",
    "        landmarks_new_coordinates = np.asarray(landmarks_new_coordinates)\n",
    "        np.savez(processed_dataset_path + 'train/Positive/' + train_filelist[i], a = face_list, b = landmarks_new_coordinates)\n",
    "        \n",
    "    if i % 100 == 0:\n",
    "        print(i)"
   ]
  },
  {
   "cell_type": "code",
   "execution_count": null,
   "metadata": {
    "collapsed": true
   },
   "outputs": [],
   "source": [
    "# for i in range(len(validation_dataset)):\n",
    "# # for i in range(10):\n",
    "#     image, label = validation_dataset[i]\n",
    "# #     bounding_boxes, landmarks = detect_faces(image)\n",
    "#     face_list = []\n",
    "#     landmarks_new_coordinates = []\n",
    "#     if label == 0:\n",
    "#         bbox_lm = np.load(face_coordinates_directory + 'val/Negative/' + val_filelist[i] +'.npz')\n",
    "#         bounding_boxes = bbox_lm['a']\n",
    "#         if(bounding_boxes.size == 0):\n",
    "#             print(\"No bounding boxes for \" + val_filelist[i] + \". Adding empty file for the same\")\n",
    "#             np.savez(processed_dataset_path + 'val/Negative' + val_filelist[i], a = np.zeros(1), b = np.zeros(1))\n",
    "#             continue\n",
    "#         landmarks = bbox_lm['b']\n",
    "        \n",
    "#         for j in range(len(bounding_boxes)):\n",
    "#             bbox_coordinates = bounding_boxes[j]\n",
    "#             landmark = landmarks[j]\n",
    "#             img_face = image.crop((bbox_coordinates[0], bbox_coordinates[1], bbox_coordinates[2], bbox_coordinates[3]))\n",
    "# #             if(len(face_list) != 0 and face_list[-1].shape[0] == int(bbox_coordinates[2] - bbox_coordinates[0])):\n",
    "# #                 img_face = image.crop((bbox_coordinates[0] -1, bbox_coordinates[1], bbox_coordinates[2], bbox_coordinates[3]))\n",
    "#             x = bbox_coordinates[0]\n",
    "#             y = bbox_coordinates[1]\n",
    "#             for k in range(5):\n",
    "#                 landmark[k] -= x\n",
    "#                 landmark[k+5] -= y\n",
    "#             img_face = np.array(img_face)\n",
    "#             landmark = np.array(landmark)\n",
    "            \n",
    "            \n",
    "#             if len(face_list) != 0:\n",
    "#                 if img_face.shape[0] == face_list[-1].shape[0]:\n",
    "#                     img_face = image.crop((bbox_coordinates[0] - 1, bbox_coordinates[1] - 1, bbox_coordinates[2], bbox_coordinates[3]))\n",
    "#                     img_face = np.array(img_face)\n",
    "#                     landmark +=1\n",
    "            \n",
    "#             face_list.append(img_face)\n",
    "#             landmarks_new_coordinates.append(landmark)\n",
    "#         face_list = np.asarray(face_list)\n",
    "#         landmarks_new_coordinates = np.asarray(landmarks_new_coordinates)\n",
    "#         np.savez(processed_dataset_path + 'val/Negative/' + val_filelist[i], a = face_list, b = landmarks_new_coordinates)\n",
    "        \n",
    "#     elif label == 1:\n",
    "#         bbox_lm = np.load(face_coordinates_directory + 'val/Neutral/' + val_filelist[i] +'.npz')\n",
    "#         bounding_boxes = bbox_lm['a']\n",
    "#         if(bounding_boxes.size == 0):\n",
    "#             print(\"No bounding boxes for \" + val_filelist[i] + \". Adding empty file for the same\")\n",
    "#             np.savez(processed_dataset_path + 'val/Neutral' + val_filelist[i], a = np.zeros(1), b = np.zeros(1))\n",
    "#             continue\n",
    "#         landmarks = bbox_lm['b']\n",
    "        \n",
    "#         for j in range(len(bounding_boxes)):\n",
    "#             bbox_coordinates = bounding_boxes[j]\n",
    "#             landmark = landmarks[j]\n",
    "#             img_face = image.crop((bbox_coordinates[0], bbox_coordinates[1], bbox_coordinates[2], bbox_coordinates[3]))\n",
    "# #             if(len(face_list) != 0 and face_list[-1].shape[0] == int(bbox_coordinates[2] - bbox_coordinates[0])):\n",
    "# #                 img_face = image.crop((bbox_coordinates[0] -1, bbox_coordinates[1], bbox_coordinates[2], bbox_coordinates[3]))\n",
    "#             x = bbox_coordinates[0]\n",
    "#             y = bbox_coordinates[1]\n",
    "#             for k in range(5):\n",
    "#                 landmark[k] -= x\n",
    "#                 landmark[k+5] -= y\n",
    "#             img_face = np.array(img_face)\n",
    "#             landmark = np.array(landmark)\n",
    "            \n",
    "#             if len(face_list) != 0:\n",
    "#                 if img_face.shape[0] == face_list[-1].shape[0]:\n",
    "#                     img_face = image.crop((bbox_coordinates[0] - 1, bbox_coordinates[1] - 1, bbox_coordinates[2], bbox_coordinates[3]))\n",
    "#                     img_face = np.array(img_face)\n",
    "#                     landmark += 1\n",
    "            \n",
    "#             face_list.append(img_face)\n",
    "#             landmarks_new_coordinates.append(landmark)\n",
    "#         face_list = np.asarray(face_list)\n",
    "#         landmarks_new_coordinates = np.asarray(landmarks_new_coordinates)\n",
    "#         np.savez(processed_dataset_path + 'val/Neutral/' + val_filelist[i], a = face_list, b = landmarks_new_coordinates)\n",
    "        \n",
    "#     else:\n",
    "#         bbox_lm = np.load(face_coordinates_directory + 'val/Positive/' + val_filelist[i] +'.npz')\n",
    "#         bounding_boxes = bbox_lm['a']\n",
    "#         if(bounding_boxes.size == 0):\n",
    "#             print(\"No bounding boxes for \" + val_filelist[i] + \". Adding empty file for the same\")\n",
    "#             np.savez(processed_dataset_path + 'val/Positive' + val_filelist[i], a = np.zeros(1), b = np.zeros(1))\n",
    "#             continue\n",
    "#         landmarks = bbox_lm['b']\n",
    "        \n",
    "#         for j in range(len(bounding_boxes)):\n",
    "#             bbox_coordinates = bounding_boxes[j]\n",
    "#             landmark = landmarks[j]\n",
    "#             img_face = image.crop((bbox_coordinates[0], bbox_coordinates[1], bbox_coordinates[2], bbox_coordinates[3]))\n",
    "# #             if(len(face_list) != 0 and face_list[-1].shape[0] == int(bbox_coordinates[2] - bbox_coordinates[0])):\n",
    "# #                 img_face = image.crop((bbox_coordinates[0] -1, bbox_coordinates[1], bbox_coordinates[2], bbox_coordinates[3]))\n",
    "#             x = bbox_coordinates[0]\n",
    "#             y = bbox_coordinates[1]\n",
    "#             for k in range(5):\n",
    "#                 landmark[k] -= x\n",
    "#                 landmark[k+5] -= y\n",
    "#             img_face = np.array(img_face)\n",
    "#             landmark = np.array(landmark)\n",
    "            \n",
    "#             if len(face_list) != 0:\n",
    "#                 if img_face.shape[0] == face_list[-1].shape[0]:\n",
    "#                     img_face = image.crop((bbox_coordinates[0] - 1, bbox_coordinates[1] - 1, bbox_coordinates[2], bbox_coordinates[3]))\n",
    "#                     img_face = np.array(img_face)\n",
    "#                     landmark += 1\n",
    "            \n",
    "#             face_list.append(img_face)\n",
    "#             landmarks_new_coordinates.append(landmark)\n",
    "#         face_list = np.asarray(face_list)\n",
    "#         landmarks_new_coordinates = np.asarray(landmarks_new_coordinates)\n",
    "#         np.savez(processed_dataset_path + 'val/Positive/' + val_filelist[i], a = face_list, b = landmarks_new_coordinates)\n",
    "        \n",
    "#     if i % 100 == 0:\n",
    "#         print(i)"
   ]
  },
  {
   "cell_type": "code",
   "execution_count": null,
   "metadata": {
    "collapsed": true
   },
   "outputs": [],
   "source": [
    "# len(bounding_boxes)"
   ]
  },
  {
   "cell_type": "code",
   "execution_count": null,
   "metadata": {
    "collapsed": true
   },
   "outputs": [],
   "source": [
    "# landmarks[0]  # x1, x2, x3, x4, x5, y1, y2, y3, y4, y5"
   ]
  },
  {
   "cell_type": "markdown",
   "metadata": {},
   "source": [
    "# Test unit"
   ]
  },
  {
   "cell_type": "code",
   "execution_count": null,
   "metadata": {
    "collapsed": true
   },
   "outputs": [],
   "source": [
    "image = image_datasets['train'][155][0]\n",
    "bounding_boxes, landmarks = detect_faces(image)"
   ]
  },
  {
   "cell_type": "code",
   "execution_count": null,
   "metadata": {
    "collapsed": true
   },
   "outputs": [],
   "source": [
    "show_bboxes(image, bounding_boxes, landmarks)"
   ]
  },
  {
   "cell_type": "code",
   "execution_count": null,
   "metadata": {
    "collapsed": true
   },
   "outputs": [],
   "source": [
    "print(len(bounding_boxes))\n",
    "print(len(landmarks))"
   ]
  },
  {
   "cell_type": "code",
   "execution_count": null,
   "metadata": {
    "collapsed": true
   },
   "outputs": [],
   "source": [
    "face_list = []\n",
    "\n",
    "for j in range(len(bounding_boxes)):\n",
    "    bbox_coordinates = bounding_boxes[j]\n",
    "    img_face = image.crop((bbox_coordinates[0], bbox_coordinates[1], bbox_coordinates[2], bbox_coordinates[3]))\n",
    "    img_face = np.array(img_face)\n",
    "    print(img_face.shape)\n",
    "    face_list.append(img_face)\n",
    "    print(face_list)\n",
    "\n",
    "face_list = np.asaarray(face_list, dtype=object)\n",
    "np.savez('test', a = face_list)\n",
    "        "
   ]
  },
  {
   "cell_type": "code",
   "execution_count": null,
   "metadata": {
    "collapsed": true
   },
   "outputs": [],
   "source": [
    "face_list.shape"
   ]
  },
  {
   "cell_type": "code",
   "execution_count": null,
   "metadata": {
    "collapsed": true
   },
   "outputs": [],
   "source": [
    "# img = image_datasets['train'][155][0]\n",
    "img1 = image.crop((bbc[0], bbc[1], bbc[2], bbc[3]))"
   ]
  },
  {
   "cell_type": "code",
   "execution_count": null,
   "metadata": {
    "collapsed": true
   },
   "outputs": [],
   "source": [
    "img1"
   ]
  },
  {
   "cell_type": "code",
   "execution_count": null,
   "metadata": {
    "collapsed": true
   },
   "outputs": [],
   "source": [
    "img_np = np.array(img1)"
   ]
  },
  {
   "cell_type": "code",
   "execution_count": null,
   "metadata": {
    "collapsed": true
   },
   "outputs": [],
   "source": [
    "np.savez('./img', a = img_np)"
   ]
  },
  {
   "cell_type": "code",
   "execution_count": null,
   "metadata": {
    "collapsed": true
   },
   "outputs": [],
   "source": [
    "images = np.load('../Dataset/SingleFaceFeatures/train/Negative/neg_1.npz')['a']"
   ]
  },
  {
   "cell_type": "code",
   "execution_count": null,
   "metadata": {
    "collapsed": true
   },
   "outputs": [],
   "source": [
    "image = images[3]"
   ]
  },
  {
   "cell_type": "code",
   "execution_count": null,
   "metadata": {
    "collapsed": true
   },
   "outputs": [],
   "source": [
    "image = Image.fromarray(image)"
   ]
  },
  {
   "cell_type": "code",
   "execution_count": null,
   "metadata": {
    "collapsed": true
   },
   "outputs": [],
   "source": [
    "image"
   ]
  },
  {
   "cell_type": "code",
   "execution_count": null,
   "metadata": {
    "collapsed": true
   },
   "outputs": [],
   "source": []
  },
  {
   "cell_type": "code",
   "execution_count": null,
   "metadata": {
    "collapsed": true
   },
   "outputs": [],
   "source": [
    "a = [np.array([1, 2, 3]),np.array([1, 2])]\n",
    "a = np.array(a)"
   ]
  },
  {
   "cell_type": "code",
   "execution_count": null,
   "metadata": {
    "collapsed": true
   },
   "outputs": [],
   "source": [
    "a"
   ]
  },
  {
   "cell_type": "code",
   "execution_count": null,
   "metadata": {
    "collapsed": true
   },
   "outputs": [],
   "source": [
    "arr = np.load('./neg_151.npz')['a']"
   ]
  },
  {
   "cell_type": "code",
   "execution_count": null,
   "metadata": {
    "collapsed": true
   },
   "outputs": [],
   "source": [
    "print(arr[0].shape)\n",
    "print(arr[1].shape)"
   ]
  },
  {
   "cell_type": "code",
   "execution_count": null,
   "metadata": {
    "collapsed": true
   },
   "outputs": [],
   "source": []
  },
  {
   "cell_type": "code",
   "execution_count": null,
   "metadata": {
    "collapsed": true
   },
   "outputs": [],
   "source": [
    "arr = np.zeros(0)"
   ]
  },
  {
   "cell_type": "code",
   "execution_count": null,
   "metadata": {
    "collapsed": true
   },
   "outputs": [],
   "source": [
    "arr.size"
   ]
  },
  {
   "cell_type": "code",
   "execution_count": null,
   "metadata": {
    "collapsed": true
   },
   "outputs": [],
   "source": [
    "#Check if extracted faces and shifted landmarks are correct"
   ]
  },
  {
   "cell_type": "code",
   "execution_count": null,
   "metadata": {},
   "outputs": [],
   "source": [
    "bbox_lm = np.load('../Dataset/CroppedFaces/train/Negative/neg_' + str(1004) +'.npz')"
   ]
  },
  {
   "cell_type": "code",
   "execution_count": null,
   "metadata": {},
   "outputs": [],
   "source": [
    "bb = bbox_lm['a']\n",
    "lm_test = bbox_lm['b']\n",
    "lm_test[1].shape"
   ]
  },
  {
   "cell_type": "code",
   "execution_count": null,
   "metadata": {},
   "outputs": [],
   "source": [
    "img_testing = Image.fromarray(bb[2])\n",
    "\n",
    "show_bboxes(img_testing, np.array([[0, 0, bb[2].shape[0], bb[2].shape[0]]]), np.array([lm_test[2]]))"
   ]
  }
 ],
 "metadata": {
  "kernelspec": {
   "display_name": "Python 3",
   "language": "python",
   "name": "python3"
  },
  "language_info": {
   "codemirror_mode": {
    "name": "ipython",
    "version": 3
   },
   "file_extension": ".py",
   "mimetype": "text/x-python",
   "name": "python",
   "nbconvert_exporter": "python",
   "pygments_lexer": "ipython3",
   "version": "3.5.4"
  }
 },
 "nbformat": 4,
 "nbformat_minor": 2
}
